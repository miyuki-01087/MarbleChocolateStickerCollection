{
 "cells": [
  {
   "cell_type": "code",
   "execution_count": 30,
   "metadata": {},
   "outputs": [],
   "source": [
    "import numpy as np\n",
    "import pandas as pd\n",
    "from pandas import Series, DataFrame\n",
    "from scipy import stats\n",
    "\n",
    "import matplotlib.pyplot as plt\n",
    "import matplotlib as mpl\n",
    "\n",
    "%matplotlib inline\n",
    "\n",
    "%precision 3\n",
    "\n",
    "mpl.rcParams['font.family'] = 'MS Gothic'"
   ]
  },
  {
   "cell_type": "code",
   "execution_count": 41,
   "metadata": {},
   "outputs": [
    {
     "name": "stdout",
     "output_type": "stream",
     "text": [
      "[[0, 1, 2], [0, 2, 1], [1, 0, 2], [1, 1, 1], [1, 2, 0], [2, 0, 1], [2, 1, 0]]\n"
     ]
    }
   ],
   "source": [
    "# 3種類から3回試行\n",
    "\n",
    "species = 3 # 種類\n",
    "array = []\n",
    "\n",
    "for i in range(species) :\n",
    "    for k in range(species) :\n",
    "        for j in range(species) :\n",
    "            if(i+k+j == species) :\n",
    "                tmp = [i,k,j]\n",
    "                array.append(tmp)\n",
    "                \n",
    "print(array)\n",
    "\n",
    "        "
   ]
  },
  {
   "cell_type": "code",
   "execution_count": 1,
   "metadata": {},
   "outputs": [
    {
     "name": "stdout",
     "output_type": "stream",
     "text": [
      "[[0, 1, 2, 3, 4, 5], [0, 1, 2, 3, 4, 5], [0, 1, 2, 3, 4, 5]]\n",
      "(0, 0, 5)\n",
      "(0, 1, 4)\n",
      "(0, 2, 3)\n",
      "(0, 3, 2)\n",
      "(0, 4, 1)\n",
      "(0, 5, 0)\n",
      "(1, 0, 4)\n",
      "(1, 1, 3)\n",
      "(1, 2, 2)\n",
      "(1, 3, 1)\n",
      "(1, 4, 0)\n",
      "(2, 0, 3)\n",
      "(2, 1, 2)\n",
      "(2, 2, 1)\n",
      "(2, 3, 0)\n",
      "(3, 0, 2)\n",
      "(3, 1, 1)\n",
      "(3, 2, 0)\n",
      "(4, 0, 1)\n",
      "(4, 1, 0)\n",
      "(5, 0, 0)\n"
     ]
    }
   ],
   "source": [
    "# species種類からN回試行\n",
    "# 直積を利用して、合計がNの組だけ抽出する\n",
    "# このやり方だと、49種類の合計Nの組みあわせを探すのは不可能(数が大きすぎる)\n",
    "\n",
    "import itertools\n",
    "import pprint\n",
    "\n",
    "species = 3 # 種類\n",
    "N = 5 # 回数\n",
    "array = []\n",
    "\n",
    "for i in range(species):\n",
    "    tmp = []\n",
    "    for j in range(N+1):\n",
    "        tmp.append(j)\n",
    "    array.append(tmp)\n",
    "\n",
    "    \n",
    "print(array)\n",
    "p = itertools.product(*array)\n",
    "\n",
    "# 合計がNのものだけ抽出\n",
    "for obj in p:\n",
    "    if sum(obj) == N :\n",
    "        print(obj)"
   ]
  },
  {
   "cell_type": "code",
   "execution_count": 8,
   "metadata": {},
   "outputs": [
    {
     "name": "stdout",
     "output_type": "stream",
     "text": [
      "[0, 1, 2, 3, 4, 5, 6, 7, 8, 9, 10, 11, 12, 13, 14, 15, 16, 17, 18, 19, 20, 21, 22, 23, 24, 25, 26, 27, 28, 29, 30, 31, 32, 33, 34, 35, 36, 37, 38, 39, 40, 41, 42, 43, 44, 45, 46, 47, 48]\n"
     ]
    }
   ],
   "source": [
    "# species種類からN回試行\n",
    "# 0~48を入れたリストを用意する\n",
    "\n",
    "species = 49 # 種類\n",
    "N = 200 # 回数\n",
    "array = []\n",
    "\n",
    "for i in range(species):\n",
    "    array.append(i)\n",
    "\n",
    "print(array)\n"
   ]
  },
  {
   "cell_type": "code",
   "execution_count": 39,
   "metadata": {},
   "outputs": [
    {
     "name": "stdout",
     "output_type": "stream",
     "text": [
      "選んだ結果\n",
      "[3, 0, 34, 10, 11, 29, 34, 0, 36, 20, 10, 25, 44, 30, 21, 4, 16, 33, 36, 39, 32, 38, 26, 31, 17, 41, 44, 26, 3, 1, 2, 13, 27, 35, 8, 40, 20, 48, 36, 35, 24, 48, 36, 32, 12, 6, 46, 19, 7, 3, 35, 8, 46, 34, 2, 29, 13, 8, 45, 31, 8, 45, 25, 15, 1, 10, 16, 26, 10, 29, 24, 19, 7, 42, 23, 43, 38, 22, 13, 28, 10, 15, 23, 18, 35, 24, 20, 9, 35, 40, 3, 28, 27, 25, 45, 47, 27, 33, 31, 16, 21, 47, 21, 31, 31, 18, 30, 30, 1, 44, 43, 33, 4, 24, 18, 34, 0, 26, 34, 44, 33, 23, 23, 1, 14, 0, 38, 13, 19, 5, 9, 9, 4, 16, 18, 9, 26, 29, 37, 21, 5, 21, 45, 33, 16, 12, 12, 36, 7, 0, 17, 23, 18, 18, 43, 40, 42, 3, 12, 35, 6, 3, 40, 47, 26, 1, 18, 35, 1, 47, 39, 19, 16, 41, 16, 44, 15, 14, 4, 18, 47, 21, 6, 31, 33, 37, 18, 22, 16, 28, 37, 40, 27, 35, 34, 20, 19, 48, 27, 25]\n",
      "回数を数えると\n",
      "{0: 5, 1: 6, 2: 2, 3: 6, 4: 4, 5: 2, 6: 3, 7: 3, 8: 4, 9: 4, 10: 5, 11: 1, 12: 4, 13: 4, 14: 2, 15: 3, 16: 8, 17: 2, 18: 9, 19: 5, 20: 4, 21: 6, 22: 2, 23: 5, 24: 4, 25: 4, 26: 6, 27: 5, 28: 3, 29: 4, 30: 3, 31: 6, 32: 2, 33: 6, 34: 6, 35: 8, 36: 5, 37: 3, 38: 3, 39: 2, 40: 5, 41: 2, 42: 2, 43: 3, 44: 5, 45: 4, 46: 2, 47: 5, 48: 3}\n"
     ]
    }
   ],
   "source": [
    "# species種類からN回試行\n",
    "# リストからN回値を引く\n",
    "# species種類の数が何回出現したか数える\n",
    "\n",
    "import random\n",
    "\n",
    "species = 49 # 種類\n",
    "N = 200 # 回数\n",
    "trial = []\n",
    "\n",
    "\n",
    "\n",
    "for i in range(N):\n",
    "    trial.append(random.choice(array))\n",
    "\n",
    "print(\"選んだ結果\")\n",
    "print(trial)\n",
    "\n",
    "counter = {}\n",
    "for i in range(species):\n",
    "    counter[i] = trial.count(i)\n",
    "\n",
    "print(\"回数を数えると\")\n",
    "print(counter)\n"
   ]
  },
  {
   "cell_type": "code",
   "execution_count": 43,
   "metadata": {},
   "outputs": [
    {
     "name": "stdout",
     "output_type": "stream",
     "text": [
      "[1, 2, 2, 2, 2, 2, 2, 2, 2, 2, 2, 3, 3, 3, 3, 3, 3, 3, 3, 3, 4, 4, 4, 4, 4, 4, 4, 4, 4, 4, 5, 5, 5, 5, 5, 5, 5, 5, 5, 6, 6, 6, 6, 6, 6, 6, 8, 8, 9]\n"
     ]
    },
    {
     "data": {
      "text/plain": [
       "(array([ 1., 10.,  9., 10.,  9.,  7.,  0.,  2.,  1.]),\n",
       " array([ 1.,  2.,  3.,  4.,  5.,  6.,  7.,  8.,  9., 10.]),\n",
       " <a list of 9 Patch objects>)"
      ]
     },
     "execution_count": 43,
     "metadata": {},
     "output_type": "execute_result"
    },
    {
     "data": {
      "image/png": "[encoded data removed]",
      "text/plain": [
       "<Figure size 432x288 with 1 Axes>"
      ]
     },
     "metadata": {
      "needs_background": "light"
     },
     "output_type": "display_data"
    }
   ],
   "source": [
    "# 結果をヒストグラムにしてみる\n",
    "\n",
    "values = []\n",
    "\n",
    "maxNum = 0\n",
    "for val in counter.values():\n",
    "    values.append(val)\n",
    "    if val > maxNum:\n",
    "        maxNum = val\n",
    "\n",
    "\n",
    "values.sort()\n",
    "\n",
    "print(values)\n",
    "plt.hist(values, bins=maxNum, range=(1,maxNum+1))\n"
   ]
  },
  {
   "cell_type": "code",
   "execution_count": 41,
   "metadata": {},
   "outputs": [
    {
     "data": {
      "text/plain": [
       "ShapiroResult(statistic=0.9326880574226379, pvalue=0.007743929512798786)"
      ]
     },
     "execution_count": 41,
     "metadata": {},
     "output_type": "execute_result"
    }
   ],
   "source": [
    "# 正規分布に従うかを求める(p=0.05)\n",
    "\n",
    "df=pd.DataFrame(values)\n",
    "\n",
    "stats.shapiro(df)"
   ]
  },
  {
   "cell_type": "code",
   "execution_count": 64,
   "metadata": {},
   "outputs": [],
   "source": [
    "# species種類からN回選ぶ試行を行う関数を定義\n",
    "\n",
    "import random\n",
    "\n",
    "species = 49 # 種類\n",
    "\n",
    "\n",
    "def Trial(N):\n",
    "    trial = []\n",
    "    for i in range(N):\n",
    "        trial.append(random.choice(array))\n",
    "    counter = {}\n",
    "    for i in range(species):\n",
    "        counter[i] = trial.count(i)\n",
    "\n",
    "    return trial\n",
    "    \n",
    "    \n",
    "def CountBySpecies(lists):\n",
    "    counter = {}\n",
    "    values = []\n",
    "    for i in range(species):\n",
    "        counter[i] = lists.count(i)\n",
    "    maxNum = 0\n",
    "    for val in counter.values():\n",
    "        values.append(val)\n",
    "        if val > maxNum:\n",
    "            maxNum = val\n",
    "    values.sort()\n",
    "\n",
    "    return values\n"
   ]
  },
  {
   "cell_type": "code",
   "execution_count": 57,
   "metadata": {},
   "outputs": [
    {
     "name": "stdout",
     "output_type": "stream",
     "text": [
      "[0, 0, 0, 0, 0, 0, 0, 0, 0, 0, 0, 0, 0, 0, 0, 0, 0, 0, 0, 0, 0, 0, 0, 0, 0, 0, 0, 0, 0, 0, 0, 6, 11, 12, 12, 13, 15, 16, 17, 17, 17, 18, 18, 18, 18, 18, 18, 19, 19, 19, 19, 19, 19, 20, 20, 21, 21, 21, 21, 22, 22, 22, 23, 23, 23, 23, 24, 24, 24, 24, 25, 25, 25, 25, 25, 26, 27, 28, 28, 30]\n"
     ]
    },
    {
     "data": {
      "text/plain": [
       "ShapiroResult(statistic=0.8137062191963196, pvalue=1.1760199924992776e-08)"
      ]
     },
     "execution_count": 57,
     "metadata": {},
     "output_type": "execute_result"
    },
    {
     "data": {
      "image/png": "[encoded data removed]",
      "text/plain": [
       "<Figure size 432x288 with 1 Axes>"
      ]
     },
     "metadata": {
      "needs_background": "light"
     },
     "output_type": "display_data"
    }
   ],
   "source": [
    "# 関数を呼びだして使えるようにした\n",
    "\n",
    "result = CountBySpecies(Trial(1000))\n",
    "maxNum = max(result)\n",
    "print(result)\n",
    "plt.hist(result, bins=maxNum, range=(1,maxNum+1))\n",
    "df=pd.DataFrame(result)\n",
    "\n",
    "stats.shapiro(df)\n"
   ]
  },
  {
   "cell_type": "code",
   "execution_count": 123,
   "metadata": {},
   "outputs": [
    {
     "name": "stdout",
     "output_type": "stream",
     "text": [
      "正規分布に従ったのは 200 回のうち 166 回\n"
     ]
    }
   ],
   "source": [
    "# 49種類からN回選ぶ試行を200回やってみる\n",
    "\n",
    "N = 700 # マーブルチョコを何個買うか\n",
    "n = 200 # それを何回繰り返すか\n",
    "\n",
    "counter_normal = 0\n",
    "for i in range(n):\n",
    "    result = CountBySpecies(Trial(N))\n",
    "    df=pd.DataFrame(result)\n",
    "    if stats.shapiro(df).pvalue > 0.05:\n",
    "        counter_normal = counter_normal+1\n",
    "\n",
    "print(\"正規分布に従ったのは\",n,\"回のうち\",counter_normal,\"回\")\n"
   ]
  },
  {
   "cell_type": "code",
   "execution_count": 5,
   "metadata": {},
   "outputs": [],
   "source": [
    "# 上の処理を関数にする\n",
    "\n",
    "def LoopTrial(N, n):\n",
    "    counter_normal = 0\n",
    "    for i in range(n):\n",
    "        result = CountBySpecies(Trial(N))\n",
    "        df=pd.DataFrame(result)\n",
    "        if stats.shapiro(df).pvalue > 0.05:\n",
    "            counter_normal = counter_normal+1\n",
    "    return counter_normal\n"
   ]
  },
  {
   "cell_type": "code",
   "execution_count": 46,
   "metadata": {},
   "outputs": [
    {
     "name": "stdout",
     "output_type": "stream",
     "text": [
      "[0, 73, 115, 142, 161, 161, 176, 168, 176, 175]\n"
     ]
    },
    {
     "data": {
      "text/plain": [
       "[<matplotlib.lines.Line2D at 0x25b616b0850>]"
      ]
     },
     "execution_count": 46,
     "metadata": {},
     "output_type": "execute_result"
    },
    {
     "data": {
      "image/png": "[encoded data removed]",
      "text/plain": [
       "<Figure size 576x360 with 1 Axes>"
      ]
     },
     "metadata": {
      "needs_background": "light"
     },
     "output_type": "display_data"
    }
   ],
   "source": [
    "# 49種類からN回選ぶ試行をn回やって正規分布になった回数を調べる\n",
    "# n=200\n",
    "\n",
    "N_list = [100,200,300,400,500,600,700,800,900,1000]\n",
    "n = 200\n",
    "n_list = []\n",
    "result_list = []\n",
    "length = len(N_list)\n",
    "for i in range(length):\n",
    "    n_list.append(n)\n",
    "\n",
    "for I, i in zip(N_list, n_list):\n",
    "    counter_normal = LoopTrial(I, i)\n",
    "    result_list.append(counter_normal)\n",
    "    \n",
    "print(result_list)\n",
    "\n",
    "N_list_index = []\n",
    "for i in range(length):\n",
    "    N_list_index.append(i)\n",
    "\n",
    "df=pd.DataFrame(result_list)\n",
    "plt.figure(figsize=(8,5))\n",
    "plt.title(\"49種類からN回選ぶ試行をn回行う(n=200)\")\n",
    "plt.xticks(N_list_index, N_list)\n",
    "plt.xlabel(\"N\")\n",
    "plt.ylabel(\"正規分布になった回数\")\n",
    "plt.plot(df)"
   ]
  },
  {
   "cell_type": "code",
   "execution_count": 69,
   "metadata": {},
   "outputs": [
    {
     "name": "stdout",
     "output_type": "stream",
     "text": [
      "[0, 139, 258, 292, 313, 330, 330, 361, 350, 346, 355, 369, 371, 363]\n"
     ]
    },
    {
     "data": {
      "text/plain": [
       "[<matplotlib.lines.Line2D at 0x25b62d4cc10>]"
      ]
     },
     "execution_count": 69,
     "metadata": {},
     "output_type": "execute_result"
    },
    {
     "data": {
      "image/png": "[encoded data removed]",
      "text/plain": [
       "<Figure size 720x360 with 1 Axes>"
      ]
     },
     "metadata": {
      "needs_background": "light"
     },
     "output_type": "display_data"
    }
   ],
   "source": [
    "# 49種類からN回選ぶ試行をn回やって正規分布になった回数を調べる\n",
    "# n=400\n",
    "\n",
    "N_list = [100, 200, 300, 400, 500, 600, 700, 800, 900, 1000, 1500, 2000, 2500, 3000]\n",
    "n = 400\n",
    "n_list = []\n",
    "result_list = []\n",
    "length = len(N_list)\n",
    "for i in range(length):\n",
    "    n_list.append(n)\n",
    "\n",
    "for I, i in zip(N_list, n_list):\n",
    "    counter_normal = LoopTrial(I, i)\n",
    "    result_list.append(counter_normal)\n",
    "    \n",
    "print(result_list)\n",
    "\n",
    "N_list_index = []\n",
    "for i in range(length):\n",
    "    N_list_index.append(i)\n",
    "\n",
    "df=pd.DataFrame(result_list)\n",
    "plt.figure(figsize=(10,5))\n",
    "plt.title(\"49種類からN回選ぶ試行をn回行う(n=400)\")\n",
    "plt.xticks(N_list_index, N_list)\n",
    "plt.xlabel(\"N\")\n",
    "plt.ylabel(\"正規分布になった回数\")\n",
    "plt.plot(df)"
   ]
  }
 ],
 "metadata": {
  "kernelspec": {
   "display_name": "Python 3",
   "language": "python",
   "name": "python3"
  },
  "language_info": {
   "codemirror_mode": {
    "name": "ipython",
    "version": 3
   },
   "file_extension": ".py",
   "mimetype": "text/x-python",
   "name": "python",
   "nbconvert_exporter": "python",
   "pygments_lexer": "ipython3",
   "version": "3.8.3"
  }
 },
 "nbformat": 4,
 "nbformat_minor": 4
}
