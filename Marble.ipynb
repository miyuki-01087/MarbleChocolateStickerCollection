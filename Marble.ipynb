{
 "cells": [
  {
   "cell_type": "code",
   "execution_count": 2,
   "metadata": {},
   "outputs": [],
   "source": [
    "import numpy as np\n",
    "import numpy.random as random\n",
    "import scipy as sp\n",
    "import pandas as pd\n",
    "import pandas_datareader.data as pdr\n",
    "from pandas import Series, DataFrame\n",
    "\n",
    "import matplotlib.pyplot as plt\n",
    "import matplotlib as mpl\n",
    "import seaborn as sns\n",
    "%matplotlib inline\n",
    "\n",
    "%precision 3\n",
    "\n",
    "import math\n"
   ]
  },
  {
   "cell_type": "code",
   "execution_count": 41,
   "metadata": {},
   "outputs": [
    {
     "name": "stdout",
     "output_type": "stream",
     "text": [
      "[[0, 1, 2], [0, 2, 1], [1, 0, 2], [1, 1, 1], [1, 2, 0], [2, 0, 1], [2, 1, 0]]\n"
     ]
    }
   ],
   "source": [
    "# 3種類から3回試行\n",
    "\n",
    "species = 3 # 種類\n",
    "array = []\n",
    "\n",
    "for i in range(species) :\n",
    "    for k in range(species) :\n",
    "        for j in range(species) :\n",
    "            if(i+k+j == species) :\n",
    "                tmp = [i,k,j]\n",
    "                array.append(tmp)\n",
    "                \n",
    "print(array)\n",
    "\n",
    "        "
   ]
  },
  {
   "cell_type": "code",
   "execution_count": 1,
   "metadata": {},
   "outputs": [
    {
     "name": "stdout",
     "output_type": "stream",
     "text": [
      "[[0, 1, 2, 3, 4, 5], [0, 1, 2, 3, 4, 5], [0, 1, 2, 3, 4, 5]]\n",
      "(0, 0, 5)\n",
      "(0, 1, 4)\n",
      "(0, 2, 3)\n",
      "(0, 3, 2)\n",
      "(0, 4, 1)\n",
      "(0, 5, 0)\n",
      "(1, 0, 4)\n",
      "(1, 1, 3)\n",
      "(1, 2, 2)\n",
      "(1, 3, 1)\n",
      "(1, 4, 0)\n",
      "(2, 0, 3)\n",
      "(2, 1, 2)\n",
      "(2, 2, 1)\n",
      "(2, 3, 0)\n",
      "(3, 0, 2)\n",
      "(3, 1, 1)\n",
      "(3, 2, 0)\n",
      "(4, 0, 1)\n",
      "(4, 1, 0)\n",
      "(5, 0, 0)\n"
     ]
    }
   ],
   "source": [
    "# species種類からN回試行\n",
    "\n",
    "import itertools\n",
    "import pprint\n",
    "\n",
    "species = 3 # 種類\n",
    "N = 5 # 回数\n",
    "array = []\n",
    "\n",
    "for i in range(species):\n",
    "    tmp = []\n",
    "    for j in range(N+1):\n",
    "        tmp.append(j)\n",
    "    array.append(tmp)\n",
    "\n",
    "    \n",
    "print(array)\n",
    "p = itertools.product(*array)\n",
    "\n",
    "# 合計がNのものだけ抽出\n",
    "for obj in p:\n",
    "    if sum(obj) == N :\n",
    "        print(obj)"
   ]
  },
  {
   "cell_type": "code",
   "execution_count": 37,
   "metadata": {},
   "outputs": [
    {
     "name": "stdout",
     "output_type": "stream",
     "text": [
      "[0, 1, 2, 3, 4, 5, 6, 7, 8, 9, 10, 11, 12, 13, 14, 15, 16, 17, 18, 19, 20, 21, 22, 23, 24, 25, 26, 27, 28, 29, 30, 31, 32, 33, 34, 35, 36, 37, 38, 39, 40, 41, 42, 43, 44, 45, 46, 47, 48]\n"
     ]
    }
   ],
   "source": [
    "# species種類からN回試行\n",
    "# 0~48を入れたリストを用意する\n",
    "\n",
    "species = 49 # 種類\n",
    "N = 200 # 回数\n",
    "array = []\n",
    "\n",
    "for i in range(species):\n",
    "    array.append(i)\n",
    "\n",
    "print(array)\n"
   ]
  },
  {
   "cell_type": "code",
   "execution_count": 40,
   "metadata": {},
   "outputs": [
    {
     "name": "stdout",
     "output_type": "stream",
     "text": [
      "選んだ結果\n",
      "[30, 23, 2, 42, 6, 5, 28, 2, 28, 37, 2, 40, 22, 42, 31, 12, 41, 26, 3, 42, 16, 8, 39, 26, 1, 19, 25, 9, 19, 37, 41, 1, 38, 47, 43, 24, 15, 0, 6, 14, 41, 47, 14, 35, 41, 31, 31, 5, 27, 10, 46, 27, 29, 15, 34, 23, 11, 21, 13, 19, 31, 28, 28, 29, 40, 18, 17, 5, 5, 7, 40, 32, 3, 7, 6, 27, 24, 35, 1, 41, 22, 9, 17, 0, 23, 42, 20, 9, 21, 40, 6, 20, 13, 7, 8, 48, 7, 39, 23, 4, 46, 37, 1, 25, 36, 13, 42, 6, 29, 11, 17, 25, 6, 30, 44, 14, 31, 23, 19, 5, 41, 36, 39, 2, 24, 28, 37, 21, 24, 26, 14, 39, 19, 11, 9, 12, 36, 17, 42, 48, 32, 0, 9, 37, 1, 45, 39, 45, 18, 30, 14, 19, 29, 42, 37, 39, 18, 9, 31, 1, 0, 12, 37, 23, 17, 42, 7, 33, 44, 41, 6, 23, 12, 25, 1, 9, 8, 42, 8, 44, 39, 43, 48, 0, 29, 31, 42, 1, 14, 30, 9, 21, 46, 16, 0, 48, 33, 37, 34, 32]\n",
      "回数を数えると\n",
      "{0: 6, 1: 8, 2: 4, 3: 2, 4: 1, 5: 5, 6: 7, 7: 5, 8: 4, 9: 8, 10: 1, 11: 3, 12: 4, 13: 3, 14: 6, 15: 2, 16: 2, 17: 5, 18: 3, 19: 6, 20: 2, 21: 4, 22: 2, 23: 7, 24: 4, 25: 4, 26: 3, 27: 3, 28: 5, 29: 5, 30: 4, 31: 7, 32: 3, 33: 2, 34: 2, 35: 2, 36: 3, 37: 8, 38: 1, 39: 7, 40: 4, 41: 7, 42: 10, 43: 2, 44: 3, 45: 2, 46: 3, 47: 2, 48: 4}\n"
     ]
    }
   ],
   "source": [
    "# species種類からN回試行\n",
    "# リストからN回値を引く\n",
    "# species種類の数が何回出現したか数える\n",
    "\n",
    "import random\n",
    "\n",
    "trial = []\n",
    "\n",
    "for i in range(N):\n",
    "    trial.append(random.choice(array))\n",
    "\n",
    "print(\"選んだ結果\")\n",
    "print(trial)\n",
    "\n",
    "counter = {}\n",
    "for i in range(species):\n",
    "    counter[i] = trial.count(i)\n",
    "\n",
    "print(\"回数を数えると\")\n",
    "print(counter)\n"
   ]
  }
 ],
 "metadata": {
  "kernelspec": {
   "display_name": "Python 3",
   "language": "python",
   "name": "python3"
  },
  "language_info": {
   "codemirror_mode": {
    "name": "ipython",
    "version": 3
   },
   "file_extension": ".py",
   "mimetype": "text/x-python",
   "name": "python",
   "nbconvert_exporter": "python",
   "pygments_lexer": "ipython3",
   "version": "3.8.3"
  }
 },
 "nbformat": 4,
 "nbformat_minor": 4
}
