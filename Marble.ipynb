{
 "cells": [
  {
   "cell_type": "code",
   "execution_count": 3,
   "metadata": {},
   "outputs": [],
   "source": [
    "import numpy as np\n",
    "import numpy.random as random\n",
    "import scipy as sp\n",
    "import pandas as pd\n",
    "import pandas_datareader.data as pdr\n",
    "from pandas import Series, DataFrame\n",
    "\n",
    "import matplotlib.pyplot as plt\n",
    "import matplotlib as mpl\n",
    "import seaborn as sns\n",
    "%matplotlib inline\n",
    "\n",
    "%precision 3\n",
    "\n",
    "import math\n"
   ]
  },
  {
   "cell_type": "code",
   "execution_count": 41,
   "metadata": {},
   "outputs": [
    {
     "name": "stdout",
     "output_type": "stream",
     "text": [
      "[[0, 1, 2], [0, 2, 1], [1, 0, 2], [1, 1, 1], [1, 2, 0], [2, 0, 1], [2, 1, 0]]\n"
     ]
    }
   ],
   "source": [
    "# 3種類から3回試行\n",
    "\n",
    "species = 3 # 種類\n",
    "array = []\n",
    "\n",
    "for i in range(species) :\n",
    "    for k in range(species) :\n",
    "        for j in range(species) :\n",
    "            if(i+k+j == species) :\n",
    "                tmp = [i,k,j]\n",
    "                array.append(tmp)\n",
    "                \n",
    "print(array)\n",
    "\n",
    "        "
   ]
  },
  {
   "cell_type": "code",
   "execution_count": 1,
   "metadata": {},
   "outputs": [
    {
     "name": "stdout",
     "output_type": "stream",
     "text": [
      "[[0, 1, 2, 3, 4, 5], [0, 1, 2, 3, 4, 5], [0, 1, 2, 3, 4, 5]]\n",
      "(0, 0, 5)\n",
      "(0, 1, 4)\n",
      "(0, 2, 3)\n",
      "(0, 3, 2)\n",
      "(0, 4, 1)\n",
      "(0, 5, 0)\n",
      "(1, 0, 4)\n",
      "(1, 1, 3)\n",
      "(1, 2, 2)\n",
      "(1, 3, 1)\n",
      "(1, 4, 0)\n",
      "(2, 0, 3)\n",
      "(2, 1, 2)\n",
      "(2, 2, 1)\n",
      "(2, 3, 0)\n",
      "(3, 0, 2)\n",
      "(3, 1, 1)\n",
      "(3, 2, 0)\n",
      "(4, 0, 1)\n",
      "(4, 1, 0)\n",
      "(5, 0, 0)\n"
     ]
    }
   ],
   "source": [
    "# species種類からN回試行\n",
    "\n",
    "import itertools\n",
    "import pprint\n",
    "\n",
    "species = 3 # 種類\n",
    "N = 5 # 回数\n",
    "array = []\n",
    "\n",
    "for i in range(species):\n",
    "    tmp = []\n",
    "    for j in range(N+1):\n",
    "        tmp.append(j)\n",
    "    array.append(tmp)\n",
    "\n",
    "    \n",
    "print(array)\n",
    "p = itertools.product(*array)\n",
    "\n",
    "# 合計がNのものだけ抽出\n",
    "for obj in p:\n",
    "    if sum(obj) == N :\n",
    "        print(obj)"
   ]
  },
  {
   "cell_type": "code",
   "execution_count": 1,
   "metadata": {},
   "outputs": [
    {
     "name": "stdout",
     "output_type": "stream",
     "text": [
      "[0, 1, 2, 3, 4, 5, 6, 7, 8, 9, 10, 11, 12, 13, 14, 15, 16, 17, 18, 19, 20, 21, 22, 23, 24, 25, 26, 27, 28, 29, 30, 31, 32, 33, 34, 35, 36, 37, 38, 39, 40, 41, 42, 43, 44, 45, 46, 47, 48]\n"
     ]
    }
   ],
   "source": [
    "# species種類からN回試行\n",
    "# 0~48を入れたリストを用意する\n",
    "\n",
    "species = 49 # 種類\n",
    "N = 200 # 回数\n",
    "array = []\n",
    "\n",
    "for i in range(species):\n",
    "    array.append(i)\n",
    "\n",
    "print(array)\n"
   ]
  },
  {
   "cell_type": "code",
   "execution_count": 36,
   "metadata": {},
   "outputs": [
    {
     "name": "stdout",
     "output_type": "stream",
     "text": [
      "選んだ結果\n",
      "[42, 39, 34, 18, 0, 1, 25, 13, 23, 20, 44, 3, 41, 13, 32, 44, 37, 36, 29, 23, 48, 25, 36, 45, 18, 39, 10, 25, 3, 20, 37, 18, 20, 24, 34, 46, 11, 42, 35, 6, 2, 29, 6, 13, 3, 38, 19, 6, 19, 4, 10, 15, 4, 29, 27, 27, 12, 6, 23, 26, 19, 34, 39, 10, 11, 29, 39, 42, 10, 26, 23, 43, 14, 20, 35, 22, 0, 41, 5, 9, 18, 48, 27, 8, 21, 35, 5, 18, 46, 11, 4, 36, 40, 15, 31, 11, 41, 43, 25, 20, 8, 20, 6, 25, 48, 31, 17, 31, 9, 7, 22, 20, 38, 34, 0, 12, 33, 48, 7, 35, 11, 45, 35, 19, 24, 41, 24, 40, 13, 0, 13, 43, 44, 43, 7, 48, 44, 48, 13, 7, 31, 15, 32, 6, 33, 14, 12, 12, 30, 14, 11, 9, 27, 42, 43, 22, 7, 28, 4, 42, 47, 4, 33, 3, 27, 26, 35, 4, 5, 20, 12, 40, 40, 36, 15, 22, 16, 30, 6, 26, 24, 40, 12, 40, 23, 25, 25, 36, 44, 32, 32, 31, 19, 1, 4, 0, 48, 36, 6, 7]\n",
      "回数を数えると\n",
      "{0: 5, 1: 2, 2: 1, 3: 4, 4: 7, 5: 3, 6: 8, 7: 6, 8: 2, 9: 3, 10: 4, 11: 6, 12: 6, 13: 6, 14: 3, 15: 4, 16: 1, 17: 1, 18: 5, 19: 5, 20: 8, 21: 1, 22: 4, 23: 5, 24: 4, 25: 7, 26: 4, 27: 5, 28: 1, 29: 4, 30: 2, 31: 5, 32: 4, 33: 3, 34: 4, 35: 6, 36: 6, 37: 2, 38: 2, 39: 4, 40: 6, 41: 4, 42: 5, 43: 5, 44: 5, 45: 2, 46: 2, 47: 1, 48: 7}\n"
     ]
    }
   ],
   "source": [
    "# species種類からN回試行\n",
    "# リストからN回値を引く\n",
    "# species種類の数が何回出現したか数える\n",
    "\n",
    "import random\n",
    "\n",
    "species = 49 # 種類\n",
    "N = 200 # 回数\n",
    "trial = []\n",
    "\n",
    "for i in range(N):\n",
    "    trial.append(random.choice(array))\n",
    "\n",
    "print(\"選んだ結果\")\n",
    "print(trial)\n",
    "\n",
    "counter = {}\n",
    "for i in range(species):\n",
    "    counter[i] = trial.count(i)\n",
    "\n",
    "print(\"回数を数えると\")\n",
    "print(counter)\n"
   ]
  },
  {
   "cell_type": "code",
   "execution_count": 37,
   "metadata": {},
   "outputs": [
    {
     "name": "stdout",
     "output_type": "stream",
     "text": [
      "[1, 1, 1, 1, 1, 1, 2, 2, 2, 2, 2, 2, 2, 3, 3, 3, 3, 4, 4, 4, 4, 4, 4, 4, 4, 4, 4, 4, 5, 5, 5, 5, 5, 5, 5, 5, 5, 6, 6, 6, 6, 6, 6, 6, 7, 7, 7, 8, 8]\n"
     ]
    },
    {
     "data": {
      "text/plain": [
       "(array([ 6.,  7.,  4., 11.,  9.,  7.,  3.,  2.]),\n",
       " array([1., 2., 3., 4., 5., 6., 7., 8., 9.]),\n",
       " <a list of 8 Patch objects>)"
      ]
     },
     "execution_count": 37,
     "metadata": {},
     "output_type": "execute_result"
    },
    {
     "data": {
      "image/png": "[encoded data removed]",
      "text/plain": [
       "<Figure size 432x288 with 1 Axes>"
      ]
     },
     "metadata": {
      "needs_background": "light"
     },
     "output_type": "display_data"
    }
   ],
   "source": [
    "values = []\n",
    "\n",
    "maxNum = 0\n",
    "for val in counter.values():\n",
    "    values.append(val)\n",
    "    if val > maxNum:\n",
    "        maxNum = val\n",
    "\n",
    "\n",
    "values.sort()\n",
    "\n",
    "print(values)\n",
    "plt.hist(values, bins=maxNum, range=(1,maxNum+1))\n"
   ]
  },
  {
   "cell_type": "code",
   "execution_count": 38,
   "metadata": {},
   "outputs": [
    {
     "data": {
      "text/plain": [
       "ShapiroResult(statistic=0.9477822780609131, pvalue=0.03006073273718357)"
      ]
     },
     "execution_count": 38,
     "metadata": {},
     "output_type": "execute_result"
    }
   ],
   "source": [
    "df=pd.DataFrame(values)\n",
    "\n",
    "stats.shapiro(df)"
   ]
  }
 ],
 "metadata": {
  "kernelspec": {
   "display_name": "Python 3",
   "language": "python",
   "name": "python3"
  },
  "language_info": {
   "codemirror_mode": {
    "name": "ipython",
    "version": 3
   },
   "file_extension": ".py",
   "mimetype": "text/x-python",
   "name": "python",
   "nbconvert_exporter": "python",
   "pygments_lexer": "ipython3",
   "version": "3.8.3"
  }
 },
 "nbformat": 4,
 "nbformat_minor": 4
}
